{
 "cells": [
  {
   "cell_type": "code",
   "execution_count": null,
   "metadata": {},
   "outputs": [],
   "source": [
    "import os\n",
    "from pathlib import Path\n",
    "from ipyfilechooser import FileChooser\n",
    "\n",
    "from eeg_preprocessing.preprocessing import *\n",
    "from eeg_preprocessing.utils.io_raw import read_raw, create_epochs_from_raw\n",
    "from eeg_preprocessing.utils.montage import set_raw_montage_from_locs\n",
    "\n",
    "from matplotlib import pyplot as plt\n",
    "%matplotlib qt"
   ]
  },
  {
   "cell_type": "code",
   "execution_count": null,
   "metadata": {},
   "outputs": [],
   "source": [
    "# Set base path to EEG data\n",
    "base_path = '/Volumes/raw_data_EEG/'\n",
    "\n",
    "# Create folder for preprocessed and interim files\n",
    "folder_name = 'preprocessed'\n",
    "interim_path = os.path.join(base_path, folder_name)\n",
    "\n",
    "# Use the widget to navigate to the experiment folder path and select an EEG file \n",
    "fc = FileChooser(base_path)\n",
    "fc.filter_pattern = ['*.edf']\n",
    "\n",
    "display(fc)"
   ]
  },
  {
   "cell_type": "code",
   "execution_count": null,
   "metadata": {},
   "outputs": [],
   "source": [
    "# Load selected file\n",
    "raw = read_raw(raw_file_path=fc.selected, add_info=False)\n",
    "print(raw.info)"
   ]
  },
  {
   "cell_type": "code",
   "execution_count": null,
   "metadata": {},
   "outputs": [],
   "source": [
    "# Set montage to raw\n",
    "montage_file_path = 'Starstim32.locs'\n",
    "raw = set_raw_montage_from_locs(montage_file_path=montage_file_path, raw=raw)"
   ]
  },
  {
   "cell_type": "code",
   "execution_count": null,
   "metadata": {},
   "outputs": [],
   "source": [
    "epochs = create_epochs_from_raw(raw=raw)"
   ]
  },
  {
   "cell_type": "code",
   "execution_count": null,
   "metadata": {},
   "outputs": [],
   "source": [
    "epochs_faster = prepare_epochs_for_ica(epochs=epochs)"
   ]
  },
  {
   "cell_type": "code",
   "execution_count": null,
   "metadata": {},
   "outputs": [],
   "source": [
    "ica = run_ica(epochs=epochs_faster)"
   ]
  },
  {
   "cell_type": "code",
   "execution_count": null,
   "metadata": {},
   "outputs": [],
   "source": [
    "# Visualize components on epochs\n",
    "\n",
    "# Exclude components by selecting them, right click on component name to visulize source:\n",
    "ica.plot_sources(epochs_faster, start=0, stop=10)"
   ]
  },
  {
   "cell_type": "code",
   "execution_count": null,
   "metadata": {},
   "outputs": [],
   "source": [
    "# After selecting the components to exclude, apply ICA to epochs\n",
    "# Document the number of excluded components\n",
    "ica.apply(epochs_faster)\n",
    "epochs_faster.info['description'] = f'n_components: {len(ica.exclude)}'"
   ]
  },
  {
   "cell_type": "code",
   "execution_count": null,
   "metadata": {},
   "outputs": [],
   "source": [
    "epochs_faster.plot(n_epochs=10, scalings={'eeg': 20e-6}, title=raw.info['fid'])"
   ]
  },
  {
   "cell_type": "code",
   "execution_count": null,
   "metadata": {},
   "outputs": [],
   "source": [
    "# Create path to epoch files\n",
    "interim_epochs_path = os.path.join(interim_path, 'epochs')\n",
    "if not os.path.exists(interim_epochs_path):\n",
    "    os.makedirs(interim_epochs_path)\n",
    "\n",
    "# Save ICA cleaned epochs \n",
    "fid = epochs_faster.info['fid']\n",
    "epochs_clean_fname = f'{fid}_ICA'\n",
    "postfix = '-epo.fif.gz'\n",
    "epochs_faster.save(os.path.join(interim_epochs_path, f'{epochs_clean_fname}{postfix}'), overwrite=True)"
   ]
  },
  {
   "cell_type": "code",
   "execution_count": null,
   "metadata": {},
   "outputs": [],
   "source": [
    "ar = run_autoreject(epochs_faster, n_jobs=11, subset=False)"
   ]
  },
  {
   "cell_type": "code",
   "execution_count": null,
   "metadata": {},
   "outputs": [],
   "source": [
    "# Drop bad epochs (stage 1)\n",
    "\n",
    "reject_log = ar.get_reject_log(epochs_faster)\n",
    "\n",
    "epochs_autoreject = epochs_faster.copy().drop(reject_log.bad_epochs, reason='AUTOREJECT')"
   ]
  },
  {
   "cell_type": "code",
   "execution_count": null,
   "metadata": {},
   "outputs": [],
   "source": [
    "epochs_ransac = run_ransac(epochs_autoreject)"
   ]
  },
  {
   "cell_type": "code",
   "execution_count": null,
   "metadata": {},
   "outputs": [],
   "source": [
    "epochs_ransac.set_eeg_reference()"
   ]
  },
  {
   "cell_type": "code",
   "execution_count": null,
   "metadata": {},
   "outputs": [],
   "source": [
    "epochs_ransac.plot(n_epochs=10, scalings={'eeg': 20e-6}, title=raw.info['fid'])"
   ]
  },
  {
   "cell_type": "code",
   "execution_count": null,
   "metadata": {},
   "outputs": [],
   "source": []
  }
 ],
 "metadata": {
  "kernelspec": {
   "display_name": "Python 3",
   "language": "python",
   "name": "python3"
  },
  "language_info": {
   "codemirror_mode": {
    "name": "ipython",
    "version": 3
   },
   "file_extension": ".py",
   "mimetype": "text/x-python",
   "name": "python",
   "nbconvert_exporter": "python",
   "pygments_lexer": "ipython3",
   "version": "3.7.4"
  }
 },
 "nbformat": 4,
 "nbformat_minor": 1
}